{
 "cells": [
  {
   "cell_type": "code",
   "execution_count": 17,
   "metadata": {},
   "outputs": [],
   "source": [
    "%matplotlib inline\n",
    "import pandas as pd"
   ]
  },
  {
   "cell_type": "code",
   "execution_count": 2,
   "metadata": {},
   "outputs": [],
   "source": [
    "df = pd.read_json('/Users/bw/Downloads/train/train.json')"
   ]
  },
  {
   "cell_type": "code",
   "execution_count": 3,
   "metadata": {},
   "outputs": [
    {
     "data": {
      "text/plain": [
       "claim               15555\n",
       "claimant            15555\n",
       "date                15555\n",
       "id                  15555\n",
       "label               15555\n",
       "related_articles    15555\n",
       "dtype: int64"
      ]
     },
     "execution_count": 3,
     "metadata": {},
     "output_type": "execute_result"
    }
   ],
   "source": [
    "df.count()"
   ]
  },
  {
   "cell_type": "code",
   "execution_count": 4,
   "metadata": {},
   "outputs": [
    {
     "data": {
      "text/html": [
       "<div>\n",
       "<style scoped>\n",
       "    .dataframe tbody tr th:only-of-type {\n",
       "        vertical-align: middle;\n",
       "    }\n",
       "\n",
       "    .dataframe tbody tr th {\n",
       "        vertical-align: top;\n",
       "    }\n",
       "\n",
       "    .dataframe thead th {\n",
       "        text-align: right;\n",
       "    }\n",
       "</style>\n",
       "<table border=\"1\" class=\"dataframe\">\n",
       "  <thead>\n",
       "    <tr style=\"text-align: right;\">\n",
       "      <th></th>\n",
       "      <th>claim</th>\n",
       "      <th>claimant</th>\n",
       "      <th>date</th>\n",
       "      <th>id</th>\n",
       "      <th>label</th>\n",
       "      <th>related_articles</th>\n",
       "    </tr>\n",
       "  </thead>\n",
       "  <tbody>\n",
       "    <tr>\n",
       "      <th>6440</th>\n",
       "      <td>A diet rich in vitamin D can reverse tooth dec...</td>\n",
       "      <td></td>\n",
       "      <td>2016-10-23</td>\n",
       "      <td>7080</td>\n",
       "      <td>0</td>\n",
       "      <td>[109238, 109239, 123756, 126087, 150622, 150782]</td>\n",
       "    </tr>\n",
       "    <tr>\n",
       "      <th>9716</th>\n",
       "      <td>Says Philando Castile \"had been stopped by pol...</td>\n",
       "      <td>Tim Kaine</td>\n",
       "      <td>2016-10-04</td>\n",
       "      <td>10718</td>\n",
       "      <td>2</td>\n",
       "      <td>[9449, 86414, 43085]</td>\n",
       "    </tr>\n",
       "    <tr>\n",
       "      <th>10988</th>\n",
       "      <td>\"Religion in America isn’t receding. It’s just...</td>\n",
       "      <td>Mike Pence</td>\n",
       "      <td>2018-05-12</td>\n",
       "      <td>12108</td>\n",
       "      <td>1</td>\n",
       "      <td>[62221, 93907, 93908, 93909, 87789, 42075, 595...</td>\n",
       "    </tr>\n",
       "    <tr>\n",
       "      <th>2494</th>\n",
       "      <td>Says he presented \"a balanced budget.\"</td>\n",
       "      <td>Bruce Rauner</td>\n",
       "      <td>2017-02-15</td>\n",
       "      <td>2748</td>\n",
       "      <td>0</td>\n",
       "      <td>[22111, 66407]</td>\n",
       "    </tr>\n",
       "    <tr>\n",
       "      <th>9964</th>\n",
       "      <td>During the RNC, Donald Trump sent a tweet abou...</td>\n",
       "      <td></td>\n",
       "      <td>2016-07-21</td>\n",
       "      <td>10992</td>\n",
       "      <td>0</td>\n",
       "      <td>[125443, 125575, 125663, 126227, 127897]</td>\n",
       "    </tr>\n",
       "    <tr>\n",
       "      <th>1460</th>\n",
       "      <td>\"Measles kills 11 people in 19 years (since 20...</td>\n",
       "      <td>Viral image</td>\n",
       "      <td>2019-04-04</td>\n",
       "      <td>1601</td>\n",
       "      <td>0</td>\n",
       "      <td>[94196, 63083, 58254, 54030, 49689, 83032]</td>\n",
       "    </tr>\n",
       "    <tr>\n",
       "      <th>5950</th>\n",
       "      <td>\"We’re 48th in K-12 funding and 50th in higher...</td>\n",
       "      <td>Nan Rich</td>\n",
       "      <td>2013-09-11</td>\n",
       "      <td>6544</td>\n",
       "      <td>1</td>\n",
       "      <td>[77219, 6551, 78222]</td>\n",
       "    </tr>\n",
       "    <tr>\n",
       "      <th>2520</th>\n",
       "      <td>\"No one questioned that she (Judge Sotomayor) ...</td>\n",
       "      <td>Charles Schumer</td>\n",
       "      <td>2010-04-11</td>\n",
       "      <td>2779</td>\n",
       "      <td>0</td>\n",
       "      <td>[516, 6566, 6567, 69358]</td>\n",
       "    </tr>\n",
       "    <tr>\n",
       "      <th>8236</th>\n",
       "      <td>\"Texas law enforcement officer fatally shot up...</td>\n",
       "      <td>Bloggers</td>\n",
       "      <td>2017-04-04</td>\n",
       "      <td>9081</td>\n",
       "      <td>0</td>\n",
       "      <td>[21441, 68459, 73349, 79546]</td>\n",
       "    </tr>\n",
       "    <tr>\n",
       "      <th>123</th>\n",
       "      <td>\"Gov. (Rick) Perry helped balance his budget w...</td>\n",
       "      <td>Barack Obama</td>\n",
       "      <td>2011-04-18</td>\n",
       "      <td>137</td>\n",
       "      <td>1</td>\n",
       "      <td>[6439, 92113, 90133, 90129, 92117, 6468]</td>\n",
       "    </tr>\n",
       "  </tbody>\n",
       "</table>\n",
       "</div>"
      ],
      "text/plain": [
       "                                                   claim         claimant  \\\n",
       "6440   A diet rich in vitamin D can reverse tooth dec...                    \n",
       "9716   Says Philando Castile \"had been stopped by pol...        Tim Kaine   \n",
       "10988  \"Religion in America isn’t receding. It’s just...       Mike Pence   \n",
       "2494              Says he presented \"a balanced budget.\"     Bruce Rauner   \n",
       "9964   During the RNC, Donald Trump sent a tweet abou...                    \n",
       "1460   \"Measles kills 11 people in 19 years (since 20...      Viral image   \n",
       "5950   \"We’re 48th in K-12 funding and 50th in higher...         Nan Rich   \n",
       "2520   \"No one questioned that she (Judge Sotomayor) ...  Charles Schumer   \n",
       "8236   \"Texas law enforcement officer fatally shot up...         Bloggers   \n",
       "123    \"Gov. (Rick) Perry helped balance his budget w...     Barack Obama   \n",
       "\n",
       "            date     id  label  \\\n",
       "6440  2016-10-23   7080      0   \n",
       "9716  2016-10-04  10718      2   \n",
       "10988 2018-05-12  12108      1   \n",
       "2494  2017-02-15   2748      0   \n",
       "9964  2016-07-21  10992      0   \n",
       "1460  2019-04-04   1601      0   \n",
       "5950  2013-09-11   6544      1   \n",
       "2520  2010-04-11   2779      0   \n",
       "8236  2017-04-04   9081      0   \n",
       "123   2011-04-18    137      1   \n",
       "\n",
       "                                        related_articles  \n",
       "6440    [109238, 109239, 123756, 126087, 150622, 150782]  \n",
       "9716                                [9449, 86414, 43085]  \n",
       "10988  [62221, 93907, 93908, 93909, 87789, 42075, 595...  \n",
       "2494                                      [22111, 66407]  \n",
       "9964            [125443, 125575, 125663, 126227, 127897]  \n",
       "1460          [94196, 63083, 58254, 54030, 49689, 83032]  \n",
       "5950                                [77219, 6551, 78222]  \n",
       "2520                            [516, 6566, 6567, 69358]  \n",
       "8236                        [21441, 68459, 73349, 79546]  \n",
       "123             [6439, 92113, 90133, 90129, 92117, 6468]  "
      ]
     },
     "execution_count": 4,
     "metadata": {},
     "output_type": "execute_result"
    }
   ],
   "source": [
    "df.sample(10)"
   ]
  },
  {
   "cell_type": "code",
   "execution_count": 5,
   "metadata": {},
   "outputs": [
    {
     "data": {
      "text/plain": [
       "0    7408\n",
       "1    6451\n",
       "2    1696\n",
       "Name: label, dtype: int64"
      ]
     },
     "execution_count": 5,
     "metadata": {},
     "output_type": "execute_result"
    }
   ],
   "source": [
    "df['label'].value_counts()"
   ]
  },
  {
   "cell_type": "code",
   "execution_count": 15,
   "metadata": {},
   "outputs": [
    {
     "data": {
      "text/plain": [
       "<matplotlib.axes._subplots.AxesSubplot at 0x1268d0518>"
      ]
     },
     "execution_count": 15,
     "metadata": {},
     "output_type": "execute_result"
    },
    {
     "data": {
      "image/png": "[encoded data removed]",
      "text/plain": [
       "<Figure size 1080x720 with 1 Axes>"
      ]
     },
     "metadata": {
      "needs_background": "light"
     },
     "output_type": "display_data"
    }
   ],
   "source": [
    "df['date'].hist(figsize=(15, 10), bins=100)"
   ]
  },
  {
   "cell_type": "code",
   "execution_count": 137,
   "metadata": {},
   "outputs": [
    {
     "data": {
      "text/plain": [
       "claim               Koch Industries paid the legal fees of George ...\n",
       "claimant                                                             \n",
       "date                                              2013-07-18 00:00:00\n",
       "id                                                                  9\n",
       "label                                                               0\n",
       "related_articles                     [120591, 120592, 127866, 129483]\n",
       "Name: 7, dtype: object"
      ]
     },
     "execution_count": 137,
     "metadata": {},
     "output_type": "execute_result"
    }
   ],
   "source": [
    "df.iloc[7]"
   ]
  },
  {
   "cell_type": "code",
   "execution_count": 138,
   "metadata": {},
   "outputs": [],
   "source": [
    "did = 129483\n",
    "with open('/Users/bw/Downloads/train/train_articles/{}.txt'.format(did)) as f:\n",
    "    doc =  f.read()"
   ]
  },
  {
   "cell_type": "code",
   "execution_count": 139,
   "metadata": {},
   "outputs": [
    {
     "name": "stdout",
     "output_type": "stream",
     "text": [
      "George Zimmerman website, TheRealGeorgeZimmerman, launched to fund legal fees in Trayvon Martin case\n",
      "The neighborhood watch volunteer who shot Florida Teen Trayvon Martin is asking for donations.\n",
      "\n",
      "George Zimmerman, who said he shot Martin in self-defense on Feb. 26, has launched a website called \"The Real George Zimmerman,\" warning supporters about groups falsely claiming to raise money for him. Zimmerman's site also solicits donations for his lawyers and living expenses.\n",
      "\n",
      "Benjamin Crump, the attorney for Trayvon Martin's family, says it's not fair.\n",
      "\n",
      "\n",
      "\n",
      "\"If the situation would have been reversed, Trayvon Martin would have been arrested day one, hour one,\" Crump said. \"This situation with the website now and everything is a luxury that Trayvon Martin doesn't have and we believe he never would have had.\"\n",
      "\n",
      "Meanwhile, the special prosecutor overseeing the investigation said she will not send a case against Zimmerman to a grand jury.\n",
      "\n",
      "Crump said that's fine.\n",
      "\n",
      "\"We look at her not impaneling a grand jury as a positive thing, because that means she either feels she's gonna have enough evidence gathered from her investigation to affect to waive probable cause to arrest the killer of this unarmed teen,\" Crump said.\n",
      "\n",
      "Zimmerman's lawyers and a friend confirmed the authenticity of his website.\n",
      "\n",
      "In it, Zimmerman also says he cannot discuss the details of the shooting, adding the facts will come to light.\n",
      "\n",
      "The friend says the solicitation for funds does not mean that Zimmerman expects to be charged.\n",
      "\n",
      "As for members of the Martin family, they also has a website raising funds to support their legal efforts.\n"
     ]
    }
   ],
   "source": [
    "print(doc)"
   ]
  },
  {
   "cell_type": "code",
   "execution_count": null,
   "metadata": {},
   "outputs": [],
   "source": []
  }
 ],
 "metadata": {
  "kernelspec": {
   "display_name": "Python 3",
   "language": "python",
   "name": "python3"
  },
  "language_info": {
   "codemirror_mode": {
    "name": "ipython",
    "version": 3
   },
   "file_extension": ".py",
   "mimetype": "text/x-python",
   "name": "python",
   "nbconvert_exporter": "python",
   "pygments_lexer": "ipython3",
   "version": "3.7.3"
  }
 },
 "nbformat": 4,
 "nbformat_minor": 2
}
